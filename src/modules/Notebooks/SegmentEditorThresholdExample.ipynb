{
 "cells": [
  {
   "cell_type": "code",
   "execution_count": null,
   "metadata": {},
   "outputs": [],
   "source": [
    "import JupyterNotebooksLib as slicernb\n",
    "\n",
    "try:\n",
    "    import matplotlib\n",
    "    import matplotlib_scalebar\n",
    "except ModuleNotFoundError:\n",
    "    pip_install(\"matplotlib\")\n",
    "    pip_install(\"matplotlib-scalebar\")\n",
    "    import matplotlib\n",
    "\n",
    "\n",
    "matplotlib.use(\"Agg\")\n",
    "import matplotlib.pyplot as plt\n",
    "\n",
    "\n",
    "# Set image viewer size to 50% (fill half of a cell)\n",
    "slicernb.AppWindow.setWindowSize(scale=0.5)\n",
    "# Hide patient information from slice view\n",
    "slicernb.showSliceViewAnnotations(False)\n",
    "\n",
    "# Example of installing an extension:\n",
    "# slicernb.installExtensions([\"SegmentEditorExtraEffects\"])"
   ]
  },
  {
   "cell_type": "code",
   "execution_count": null,
   "metadata": {},
   "outputs": [],
   "source": [
    "# Clear scene\n",
    "slicer.mrmlScene.Clear(False)\n",
    "\n",
    "# Load from local file\n",
    "WORKDIR = Path(os.path.abspath(\"\")) / \"data\"\n",
    "\n",
    "# Load from local file\n",
    "volume = slicer.util.loadVolume(str(WORKDIR / \"index.nrrd\"))\n",
    "\n",
    "slicernb.ViewSliceDisplay(\"Red\")"
   ]
  },
  {
   "cell_type": "code",
   "execution_count": null,
   "metadata": {},
   "outputs": [],
   "source": [
    "# slicernb.AppWindow.setWindowSize(scale=0.5)"
   ]
  },
  {
   "cell_type": "code",
   "execution_count": null,
   "metadata": {},
   "outputs": [],
   "source": [
    "# Clear scene\n",
    "# slicer.mrmlScene.Clear(False)\n",
    "\n",
    "# Create output node\n",
    "blurredVolume = slicer.mrmlScene.AddNewNodeByClass(\"vtkMRMLScalarVolumeNode\", \"Filtered\")\n",
    "blurredVolume.CreateDefaultDisplayNodes()\n",
    "\n",
    "# Show 3-over-3 compare layout with original and blurred volume\n",
    "# slicernb.showSliceViewAnnotations(True)\n",
    "# slicernb.setViewLayout(\"ThreeOverThree\")\n",
    "layoutManager = slicer.app.layoutManager()\n",
    "for sliceViewName in layoutManager.sliceViewNames():\n",
    "    sliceWidget = layoutManager.sliceWidget(sliceViewName)\n",
    "    volumeNodeToShow = volume if sliceWidget.mrmlSliceNode().GetViewGroup() == 0 else blurredVolume\n",
    "    sliceWidget.mrmlSliceCompositeNode().SetBackgroundVolumeID(volumeNodeToShow.GetID())\n",
    "\n",
    "parameters = {\"InputVolume\": volume.GetID(), \"OutputVolume\": blurredVolume.GetID(), \"Lower\": 1.6, \"Upper\": 7.3}\n",
    "\n",
    "slicer.cli.runSync(slicer.modules.thresholdscalarvolume, parameters=parameters, update_display=True)\n",
    "\n",
    "# Create a function for performing the filtering.\n",
    "# This will be executed whenever the slider is moved and released.\n",
    "# def threshold(lower=-20, upper=180):\n",
    "\n",
    "#     return slicer.nb.ViewDisplay(\"ThreeOverThree\")\n",
    "\n",
    "# # Create slider\n",
    "# from ipywidgets import FloatSlider, interact\n",
    "# i=interact(threshold,\n",
    "#          lower=FloatSlider(150, min=-50, max=300, step=5, continuous_update=False),\n",
    "#          upper=FloatSlider(250, min=-50, max=300, step=5, continuous_update=False))\n",
    "\n",
    "df1 = slicer.util.arrayFromVolume(blurredVolume).ravel()\n",
    "\n",
    "slicernb.ViewSliceDisplay(\"Red\")"
   ]
  },
  {
   "cell_type": "code",
   "execution_count": null,
   "metadata": {},
   "outputs": [],
   "source": [
    "blurredVolume2 = slicer.mrmlScene.AddNewNodeByClass(\"vtkMRMLScalarVolumeNode\", \"Filtered2\")\n",
    "blurredVolume2.CreateDefaultDisplayNodes()\n",
    "\n",
    "# Show 3-over-3 compare layout with original and blurred volume\n",
    "# slicer.nb.showSliceViewAnnotations(True)\n",
    "# slicer.nb.setViewLayout(\"ThreeOverThree\")\n",
    "layoutManager = slicer.app.layoutManager()\n",
    "for sliceViewName in layoutManager.sliceViewNames():\n",
    "    sliceWidget = layoutManager.sliceWidget(sliceViewName)\n",
    "    volumeNodeToShow = volume if sliceWidget.mrmlSliceNode().GetViewGroup() == 0 else blurredVolume2\n",
    "    sliceWidget.mrmlSliceCompositeNode().SetBackgroundVolumeID(volumeNodeToShow.GetID())\n",
    "\n",
    "parameters = {\"InputVolume\": volume.GetID(), \"OutputVolume\": blurredVolume2.GetID(), \"Lower\": 4.6, \"Upper\": 8.3}\n",
    "\n",
    "slicer.cli.runSync(slicer.modules.thresholdscalarvolume, parameters=parameters, update_display=True)\n",
    "\n",
    "df2 = slicer.util.arrayFromVolume(blurredVolume2).ravel()\n",
    "\n",
    "slicernb.ViewSliceDisplay(\"Red\")"
   ]
  },
  {
   "cell_type": "code",
   "execution_count": null,
   "metadata": {},
   "outputs": [],
   "source": [
    "blurredVolume3 = slicer.mrmlScene.AddNewNodeByClass(\"vtkMRMLScalarVolumeNode\", \"Filtered3\")\n",
    "blurredVolume3.CreateDefaultDisplayNodes()\n",
    "\n",
    "# Show 3-over-3 compare layout with original and blurred volume\n",
    "# slicer.nb.showSliceViewAnnotations(True)\n",
    "# slicer.nb.setViewLayout(\"ThreeOverThree\")\n",
    "layoutManager = slicer.app.layoutManager()\n",
    "for sliceViewName in layoutManager.sliceViewNames():\n",
    "    sliceWidget = layoutManager.sliceWidget(sliceViewName)\n",
    "    volumeNodeToShow = volume if sliceWidget.mrmlSliceNode().GetViewGroup() == 0 else blurredVolume3\n",
    "    sliceWidget.mrmlSliceCompositeNode().SetBackgroundVolumeID(volumeNodeToShow.GetID())\n",
    "\n",
    "parameters = {\"InputVolume\": volume.GetID(), \"OutputVolume\": blurredVolume3.GetID(), \"Lower\": 7.6, \"Upper\": 10.3}\n",
    "\n",
    "slicer.cli.runSync(slicer.modules.thresholdscalarvolume, parameters=parameters, update_display=True)\n",
    "\n",
    "df3 = slicer.util.arrayFromVolume(blurredVolume3).ravel()\n",
    "\n",
    "slicernb.ViewSliceDisplay(\"Red\")"
   ]
  },
  {
   "cell_type": "code",
   "execution_count": null,
   "metadata": {},
   "outputs": [],
   "source": [
    "import numpy as np\n",
    "\n",
    "# import seaborn as sns\n",
    "# sns.set_style(\"white\")\n",
    "\n",
    "# Import data\n",
    "x1, _ = np.histogram(df1[df1 > 0], bins=range(100), density=True)\n",
    "x2, _ = np.histogram(df2[df2 > 0], bins=range(100), density=True)\n",
    "x3, _ = np.histogram(df3[df3 > 0], bins=range(100), density=True)\n",
    "# x1 = df1[df1 > 0]\n",
    "# x2 = df2[df2 > 0]\n",
    "# x3 = df3[df3 > 0]\n",
    "\n",
    "# Plot\n",
    "kwargs = dict()\n",
    "\n",
    "fig, ax = plt.subplots(ncols=1, nrows=1, figsize=(20, 20))\n",
    "ax.plot(range(len(x1)), x1, color=\"g\", label=\"x1\")\n",
    "ax.plot(range(len(x2)), x2, color=\"b\", label=\"x2\")\n",
    "ax.plot(range(len(x2)), x3, color=\"r\", label=\"x3\")\n",
    "ax.set_ylabel(\"Frequency\")\n",
    "slicernb.MatplotlibDisplay(plt)"
   ]
  },
  {
   "cell_type": "code",
   "execution_count": null,
   "metadata": {},
   "outputs": [],
   "source": [
    "filt = slicer.mrmlScene.GetNodesByName(\"Filtered3 masked\")"
   ]
  },
  {
   "cell_type": "code",
   "execution_count": null,
   "metadata": {},
   "outputs": [],
   "source": []
  },
  {
   "cell_type": "code",
   "execution_count": null,
   "metadata": {},
   "outputs": [],
   "source": []
  },
  {
   "cell_type": "code",
   "execution_count": null,
   "metadata": {},
   "outputs": [],
   "source": []
  }
 ],
 "metadata": {
  "kernelspec": {
   "display_name": "Slicer 4.11",
   "language": "python",
   "name": "slicer-4.11"
  },
  "language_info": {
   "file_extension": ".py",
   "mimetype": "text/x-python",
   "name": "python",
   "version": "3.6.7"
  }
 },
 "nbformat": 4,
 "nbformat_minor": 4
}
