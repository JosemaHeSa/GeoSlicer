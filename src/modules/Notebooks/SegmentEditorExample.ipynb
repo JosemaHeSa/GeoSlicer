{
 "cells": [
  {
   "cell_type": "code",
   "execution_count": null,
   "metadata": {},
   "outputs": [],
   "source": [
    "import JupyterNotebooksLib as slicernb\n",
    "\n",
    "import os\n",
    "from pathlib import Path\n",
    "\n",
    "# Clear scene\n",
    "slicer.mrmlScene.Clear(False)\n",
    "\n",
    "WORKDIR = Path(os.path.abspath(\"\")) / \"data\"\n",
    "\n",
    "# Load from local file\n",
    "volume = slicer.util.loadVolume(str(WORKDIR / \"index.nrrd\"))\n",
    "\n",
    "slicernb.ViewSliceDisplay(\"Red\")"
   ]
  },
  {
   "cell_type": "code",
   "execution_count": null,
   "metadata": {},
   "outputs": [],
   "source": [
    "try:\n",
    "    import matplotlib\n",
    "except ModuleNotFoundError:\n",
    "    pip_install(\"matplotlib\")\n",
    "    import matplotlib\n",
    "\n",
    "matplotlib.use(\"Agg\")\n",
    "\n",
    "# Get a volume from SampleData and compute its histogram\n",
    "import numpy as np\n",
    "\n",
    "histogram = np.histogram(slicer.util.arrayFromVolume(volume), bins=50)\n",
    "\n",
    "# Show a plot using matplotlib\n",
    "import matplotlib.pyplot as plt\n",
    "\n",
    "fig, ax = plt.subplots()\n",
    "ax.plot(histogram[1][1:], histogram[0].astype(float))\n",
    "ax.grid(True)\n",
    "ax.set_ylim((0, 4e5))\n",
    "\n",
    "slicernb.MatplotlibDisplay(plt)"
   ]
  },
  {
   "cell_type": "code",
   "execution_count": null,
   "metadata": {},
   "outputs": [],
   "source": [
    "parameters = {}\n",
    "parameters[\"InputVolume\"] = volume.GetID()\n",
    "parameters[\"Threshold\"] = 8.6\n",
    "outModel = slicer.vtkMRMLModelNode()\n",
    "slicer.mrmlScene.AddNode(outModel)\n",
    "parameters[\"OutputGeometry\"] = outModel.GetID()\n",
    "grayMaker = slicer.modules.grayscalemodelmaker\n",
    "slicer.cli.runSync(grayMaker, None, parameters)\n",
    "slicer.app.layoutManager().setLayout(slicer.vtkMRMLLayoutNode.SlicerLayoutOneUp3DView)\n",
    "slicer.app.layoutManager().threeDWidget(0).threeDView().resetCamera()\n",
    "\n",
    "live3dSeg = slicernb.ViewInteractiveWidget(\"1\")\n",
    "live3dSeg.trackMouseMove = True\n",
    "display(live3dSeg)"
   ]
  },
  {
   "cell_type": "code",
   "execution_count": null,
   "metadata": {},
   "outputs": [],
   "source": []
  }
 ],
 "metadata": {
  "kernelspec": {
   "display_name": "Slicer 4.11",
   "language": "python",
   "name": "slicer-4.11"
  },
  "language_info": {
   "file_extension": ".py",
   "mimetype": "text/x-python",
   "name": "python",
   "version": "3.6.7"
  }
 },
 "nbformat": 4,
 "nbformat_minor": 4
}
