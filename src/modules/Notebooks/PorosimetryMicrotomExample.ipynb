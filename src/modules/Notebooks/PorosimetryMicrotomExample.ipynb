{
 "cells": [
  {
   "cell_type": "code",
   "execution_count": null,
   "metadata": {},
   "outputs": [],
   "source": [
    "import JupyterNotebooksLib as slicernb"
   ]
  },
  {
   "cell_type": "code",
   "execution_count": null,
   "metadata": {},
   "outputs": [],
   "source": [
    "import slicer\n",
    "\n",
    "# slicer.util.pip_install('xarray')\n",
    "# slicer.util.pip_install('dask')\n",
    "# slicer.util.pip_install('dask-image')\n",
    "# slicer.util.pip_install('fastscript')\n",
    "# slicer.util.pip_install('tqdm')\n",
    "# slicer.util.pip_install('Pillow')\n",
    "# slicer.util.pip_install('moviepy')\n",
    "# slicer.util.pip_install('zarr')\n",
    "# slicer.util.pip_install('netCDF4')"
   ]
  },
  {
   "cell_type": "code",
   "execution_count": null,
   "metadata": {},
   "outputs": [],
   "source": [
    "import os\n",
    "from pathlib import Path\n",
    "\n",
    "import ctk\n",
    "\n",
    "try:\n",
    "    import matplotlib\n",
    "    import matplotlib_scalebar\n",
    "except ModuleNotFoundError:\n",
    "    pip_install(\"matplotlib\")\n",
    "    pip_install(\"matplotlib-scalebar\")\n",
    "    import matplotlib\n",
    "\n",
    "matplotlib.use(\"Agg\")\n",
    "import matplotlib.pyplot as plt\n",
    "\n",
    "import microtom\n",
    "\n",
    "# work_dir é a pasta examples do repositório\n",
    "work_dir = Path(os.path.abspath(\"\")) / \"data\"\n",
    "print(work_dir)"
   ]
  },
  {
   "cell_type": "markdown",
   "metadata": {},
   "source": [
    "# Porosimetria\n",
    "O arquivo porosimetry.py contém funções uteis para determinar a distribuição de tamanho de poros e gargantas."
   ]
  },
  {
   "cell_type": "code",
   "execution_count": null,
   "metadata": {},
   "outputs": [],
   "source": [
    "from microtom import psd, micp, hpsd, psd_red_image, connected_image, micp_red_image"
   ]
  },
  {
   "cell_type": "markdown",
   "metadata": {},
   "source": [
    "A função `psd` determina a distribuição de tamanho de poros de uma imagem. Esta função se define como a fração dos poros segmentados de uma imagem que está incluída em uma esfera de determinado diâmetro."
   ]
  },
  {
   "cell_type": "code",
   "execution_count": null,
   "metadata": {},
   "outputs": [],
   "source": [
    "ds = microtom.read_raw_file(work_dir + \"/SINTETICA_III_LIMPA_B1_BIN_0100_0100_0100_04000nm.raw\");"
   ]
  },
  {
   "cell_type": "code",
   "execution_count": null,
   "metadata": {},
   "outputs": [],
   "source": [
    "red_saturation_psd, list_radius_psd, psd_image_data = psd(ds[\"bin\"].data, full_image=True)"
   ]
  },
  {
   "cell_type": "markdown",
   "metadata": {},
   "source": [
    "A opção full_image é opcional e igual a `False`. Se colocada igual a true, gera uma imagem da distribuição de tamanho de poros da amostra, conforme mostrado na figura abaixo."
   ]
  },
  {
   "cell_type": "code",
   "execution_count": null,
   "metadata": {},
   "outputs": [],
   "source": [
    "fig, ax = plt.subplots(ncols=2, nrows=1, figsize=(20, 20))\n",
    "nslice = 90\n",
    "ax[0].imshow(ds[\"bin\"].data[nslice, :, :])\n",
    "ax[1].imshow(psd_image_data[nslice, :, :])\n",
    "fig.tight_layout()\n",
    "slicernb.MatplotlibDisplay(plt)"
   ]
  },
  {
   "cell_type": "markdown",
   "metadata": {},
   "source": [
    "Muitas vezes é mais comum fazer o gráfico da saturação em relação a 1/R, como segue:"
   ]
  },
  {
   "cell_type": "code",
   "execution_count": null,
   "metadata": {},
   "outputs": [],
   "source": [
    "blue_saturation_psd = 1 - red_saturation_psd  # Esse é o fluido que ficaria nos menores poros\n",
    "plt.scatter(1 / list_radius_psd, blue_saturation_psd)\n",
    "slicernb.MatplotlibDisplay(plt)"
   ]
  },
  {
   "cell_type": "markdown",
   "metadata": {},
   "source": [
    "Para investigar melhor o que está acontecendo em cada ponto desta curva, pode-se utilizar a função `psd_red_image`, que retorna a imagem das regiões em que uma esfera de um determinado diâmetro conseguiu acessar o meio poroso. Exemplo: "
   ]
  },
  {
   "cell_type": "code",
   "execution_count": null,
   "metadata": {},
   "outputs": [],
   "source": [
    "red_image_psd = psd_red_image(ds[\"bin\"].data, 10.0)"
   ]
  },
  {
   "cell_type": "code",
   "execution_count": null,
   "metadata": {},
   "outputs": [],
   "source": [
    "fig, ax = plt.subplots(ncols=3, nrows=1, figsize=(20, 20))\n",
    "nslice = 90\n",
    "ax[0].imshow(ds[\"bin\"].data[nslice, :, :])\n",
    "ax[1].imshow(red_image_psd[nslice, :, :])\n",
    "ax[2].imshow(ds[\"bin\"].data[nslice, :, :] - red_image_psd[nslice, :, :])\n",
    "slicernb.MatplotlibDisplay(plt)"
   ]
  },
  {
   "cell_type": "code",
   "execution_count": null,
   "metadata": {},
   "outputs": [],
   "source": [
    "red_saturation_micp, list_radius_micp, micp_image_data = micp(ds[\"bin\"].data, full_image=True)"
   ]
  },
  {
   "cell_type": "markdown",
   "metadata": {},
   "source": [
    "A opção full_image é opcional e igual a `False`. Se colocada igual a true, gera uma imagem da distribuição de tamanho de volumes conectados por diâmetros de determinado tamanho da amostra, conforme mostrado na figura abaixo."
   ]
  },
  {
   "cell_type": "code",
   "execution_count": null,
   "metadata": {},
   "outputs": [],
   "source": [
    "fig, ax = plt.subplots(ncols=2, nrows=1, figsize=(20, 20))\n",
    "nslice = 90\n",
    "ax[0].imshow(ds[\"bin\"].data[nslice, :, :])\n",
    "ax[1].imshow(micp_image_data[nslice, :, :])\n",
    "slicernb.MatplotlibDisplay(plt)"
   ]
  },
  {
   "cell_type": "markdown",
   "metadata": {},
   "source": [
    "Muitas vezes é mais comum fazer o gráfico da saturação em relação a 1/R, como segue:"
   ]
  },
  {
   "cell_type": "code",
   "execution_count": null,
   "metadata": {},
   "outputs": [],
   "source": [
    "blue_saturation_micp = 1 - red_saturation_micp  # Esse é o fluido que ficaria nos menores poros\n",
    "plt.scatter(1 / list_radius_micp, blue_saturation_micp)\n",
    "slicernb.MatplotlibDisplay(plt)"
   ]
  },
  {
   "cell_type": "code",
   "execution_count": null,
   "metadata": {},
   "outputs": [],
   "source": [
    "plt.scatter(1 / list_radius_micp, blue_saturation_micp)\n",
    "plt.scatter(1 / list_radius_psd, blue_saturation_psd)\n",
    "slicernb.MatplotlibDisplay(plt)"
   ]
  },
  {
   "cell_type": "markdown",
   "metadata": {},
   "source": [
    "Existe ainda um terceiro tipo de distribuição de tamanho de poros, chamada de hierárquica, por não permitir que as esferas se sobreponham no espaço poroso."
   ]
  },
  {
   "cell_type": "code",
   "execution_count": null,
   "metadata": {},
   "outputs": [],
   "source": [
    "red_saturation_hpsd, list_radius_hpsd, hpsd_image_data = hpsd(ds[\"bin\"].data, full_image=True)"
   ]
  },
  {
   "cell_type": "code",
   "execution_count": null,
   "metadata": {},
   "outputs": [],
   "source": [
    "nslice = 90\n",
    "fig, ax = plt.subplots(ncols=2, nrows=1, figsize=(20, 20))\n",
    "ax[0].imshow(ds[\"bin\"].data[nslice, :, :])\n",
    "ax[1].imshow(hpsd_image_data[nslice, :, :])\n",
    "slicernb.MatplotlibDisplay(plt)"
   ]
  },
  {
   "cell_type": "code",
   "execution_count": null,
   "metadata": {},
   "outputs": [],
   "source": [
    "hpsdVolumeNode = slicer.mrmlScene.AddNewNodeByClass(\"vtkMRMLScalarVolumeNode\", \"HPSD\")\n",
    "hpsdVolumeNode.CreateDefaultDisplayNodes()\n",
    "\n",
    "slicer.util.updateVolumeFromArray(hpsdVolumeNode, hpsd_image_data)"
   ]
  },
  {
   "cell_type": "code",
   "execution_count": null,
   "metadata": {},
   "outputs": [],
   "source": [
    "slicernb.AppWindow.setWindowSize(scale=1.0)\n",
    "slicernb.ViewInteractiveWidget()"
   ]
  },
  {
   "cell_type": "code",
   "execution_count": null,
   "metadata": {},
   "outputs": [],
   "source": [
    "slicernb.showVolumeRendering(volume)"
   ]
  }
 ],
 "metadata": {
  "kernelspec": {
   "display_name": "Slicer 4.11",
   "language": "python",
   "name": "slicer-4.11"
  },
  "language_info": {
   "file_extension": ".py",
   "mimetype": "text/x-python",
   "name": "python",
   "version": "3.6.7"
  },
  "toc": {
   "base_numbering": 1,
   "nav_menu": {},
   "number_sections": true,
   "sideBar": true,
   "skip_h1_title": false,
   "title_cell": "Table of Contents",
   "title_sidebar": "Contents",
   "toc_cell": false,
   "toc_position": {},
   "toc_section_display": true,
   "toc_window_display": false
  }
 },
 "nbformat": 4,
 "nbformat_minor": 4
}
