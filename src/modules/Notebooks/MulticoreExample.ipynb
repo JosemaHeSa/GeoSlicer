{
 "cells": [
  {
   "cell_type": "code",
   "execution_count": null,
   "metadata": {},
   "outputs": [],
   "source": [
    "import JupyterNotebooksLib as slicernb"
   ]
  },
  {
   "cell_type": "markdown",
   "metadata": {},
   "source": [
    "# Prepare screen"
   ]
  },
  {
   "cell_type": "code",
   "execution_count": null,
   "metadata": {},
   "outputs": [],
   "source": [
    "# Clear scene\n",
    "slicer.mrmlScene.Clear(False)\n",
    "\n",
    "# Set up view layout\n",
    "slicer.app.layoutManager().setLayout(slicer.vtkMRMLLayoutNode.SlicerLayoutFourUpView)"
   ]
  },
  {
   "cell_type": "code",
   "execution_count": null,
   "metadata": {},
   "outputs": [],
   "source": [
    "import os\n",
    "from collections import namedtuple\n",
    "import slicer\n",
    "\n",
    "\n",
    "class Callback(object):\n",
    "    def __init__(self, on_update=None):\n",
    "        self.on_update = on_update or (lambda *args, **kwargs: None)"
   ]
  },
  {
   "cell_type": "markdown",
   "metadata": {},
   "source": [
    "### Configuração\n",
    "\n",
    "Para fins de detalhamento, eu trouxe a implementação do objeto de parametrização para dentro do Notebook, mas é possível acessá-lo via import do modulo. "
   ]
  },
  {
   "cell_type": "code",
   "execution_count": null,
   "metadata": {},
   "outputs": [],
   "source": [
    "DATASETS_DIRECTORY = \"datasetsDirectory\"\n",
    "EXPORT_DIRECTORY = \"exportDirectory\"\n",
    "INITIAL_DEPTH = \"initialDepth\"\n",
    "CORE_LENGTH = \"coreLength\"\n",
    "CORE_DIAMETER = \"coreDiameter\"\n",
    "WELL_DIAMETER = \"wellDiameter\"\n",
    "UNWRAP_LAYER_DEPTH = \"unwrapRadialDepth\"\n",
    "ORIENTATION_ALGORITHM = \"orientationAlgorithm\"\n",
    "ORIENTATION_ALGORITHM_NONE = 0\n",
    "ORIENTATION_ALGORITHM_SURFACE = 1\n",
    "ORIENTATION_ALGORITHM_SINUSOID = 2\n",
    "ORIENTATION_ALGORITHM_SURFACE_SINUSOID = 3\n",
    "KEEP_ORIGINAL_VOLUMES = \"keepOriginalVolumes\"\n",
    "CORE_RADIAL_CORRECTION = \"coreRadialCorrection\"\n",
    "SMOOTH_CORE_SURFACE = \"smoothCoreSurface\"\n",
    "\n",
    "LoadDatasetsParameters = namedtuple(\n",
    "    \"LoadDatasetsParameters\", [\"callback\", DATASETS_DIRECTORY, INITIAL_DEPTH, CORE_LENGTH]\n",
    ")\n",
    "\n",
    "ProcessCoresParameters = namedtuple(\n",
    "    \"ProcessCoresParameters\",\n",
    "    [\"callback\", CORE_DIAMETER, CORE_RADIAL_CORRECTION, SMOOTH_CORE_SURFACE, KEEP_ORIGINAL_VOLUMES],\n",
    ")\n",
    "\n",
    "ApplyAllParameters = namedtuple(\n",
    "    \"ApplyAllParameters\",\n",
    "    [\n",
    "        \"callback\",\n",
    "        DATASETS_DIRECTORY,\n",
    "        INITIAL_DEPTH,\n",
    "        CORE_LENGTH,\n",
    "        CORE_DIAMETER,\n",
    "        CORE_RADIAL_CORRECTION,\n",
    "        SMOOTH_CORE_SURFACE,\n",
    "        KEEP_ORIGINAL_VOLUMES,\n",
    "        ORIENTATION_ALGORITHM,\n",
    "        UNWRAP_LAYER_DEPTH,\n",
    "        WELL_DIAMETER,\n",
    "    ],\n",
    ")"
   ]
  },
  {
   "cell_type": "markdown",
   "metadata": {},
   "source": [
    "### Chamando a função\n",
    "\n",
    "Abaixo a gente cria um objeto que define a configuração para ler uma pasta contendo os DICOMs de uma tomografia de testemunho. Para rodar, é preciso trocar a pasta \"./data/cores\", pela pasta onde estão os DICOMs na sua máquina."
   ]
  },
  {
   "cell_type": "code",
   "execution_count": null,
   "metadata": {},
   "outputs": [],
   "source": [
    "from ltrace.units import global_unit_registry as ureg, SLICER_LENGTH_UNIT\n",
    "\n",
    "\n",
    "def updateStatus(message, progress, processEvents):\n",
    "    print(progress)\n",
    "\n",
    "\n",
    "callback = Callback(\n",
    "    on_update=lambda message, percent, processEvents=True: updateStatus(\n",
    "        message,\n",
    "        progress=percent,\n",
    "        processEvents=processEvents,\n",
    "    )\n",
    ")\n",
    "\n",
    "applyAllParameters = ApplyAllParameters(\n",
    "    callback,\n",
    "    \"./data/cores\",  # <----------- TROCAR AQUI colocar o caminho raiz dos diretorios dos testemunhos (em DICOM). Ex: ./data/cores/T02_CX01, ./data/cores/T02_CX02\n",
    "    float(5422) * ureg.meter,\n",
    "    float(90) * ureg.centimeter,\n",
    "    float(130) * ureg.millimeter,\n",
    "    True,\n",
    "    True,\n",
    "    True,\n",
    "    \"Surface + Sinusoid\",\n",
    "    float(4) * ureg.millimeter,\n",
    "    float(308) * ureg.millimeter,\n",
    ")\n",
    "\n",
    "from Multicore import MulticoreLogic\n",
    "\n",
    "logic = MulticoreLogic()\n",
    "logic.applyAll(applyAllParameters)"
   ]
  },
  {
   "cell_type": "code",
   "execution_count": null,
   "metadata": {},
   "outputs": [],
   "source": [
    "# Slice view display\n",
    "from ipywidgets import interact\n",
    "\n",
    "\n",
    "@interact(position=(0, 100))\n",
    "def update(position=50):\n",
    "    return slicernb.ViewSliceDisplay(\"Red\", positionPercent=position)"
   ]
  },
  {
   "cell_type": "code",
   "execution_count": null,
   "metadata": {},
   "outputs": [],
   "source": [
    "# Slice widgets\n",
    "from ipywidgets import HBox\n",
    "\n",
    "display(HBox([slicernb.ViewSliceWidget(\"Red\"), slicernb.ViewSliceWidget(\"Yellow\"), slicernb.ViewSliceWidget(\"Green\")]))"
   ]
  },
  {
   "cell_type": "code",
   "execution_count": null,
   "metadata": {},
   "outputs": [],
   "source": [
    "slicernb.View3DDisplay()"
   ]
  },
  {
   "cell_type": "code",
   "execution_count": null,
   "metadata": {},
   "outputs": [],
   "source": [
    "# Set image viewer size to 50% (fill half of a cell)\n",
    "slicernb.AppWindow.setWindowSize(scale=2)\n",
    "slicernb.ViewInteractiveWidget()"
   ]
  },
  {
   "cell_type": "code",
   "execution_count": null,
   "metadata": {},
   "outputs": [],
   "source": [
    "# Lightbox view\n",
    "slicernb.ViewLightboxDisplay(\n",
    "    \"Red\",\n",
    "    rangeShrink=[45, 50],\n",
    ")"
   ]
  },
  {
   "cell_type": "code",
   "execution_count": null,
   "metadata": {},
   "outputs": [],
   "source": []
  }
 ],
 "metadata": {
  "kernelspec": {
   "display_name": "Slicer 4.11",
   "language": "python",
   "name": "slicer-4.11"
  },
  "language_info": {
   "file_extension": ".py",
   "mimetype": "text/x-python",
   "name": "python",
   "version": "3.6.7"
  }
 },
 "nbformat": 4,
 "nbformat_minor": 4
}
